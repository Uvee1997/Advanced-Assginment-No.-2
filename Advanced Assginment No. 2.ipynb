{
 "cells": [
  {
   "cell_type": "markdown",
   "id": "d58bdb92",
   "metadata": {},
   "source": [
    "1) What is difference between classes & modules?\n",
    "\n",
    ":- A class is used to define blueprint of a object.\n",
    "   Module is used to reuse given piece of code in another program"
   ]
  },
  {
   "cell_type": "markdown",
   "id": "30ed6daf",
   "metadata": {},
   "source": [
    "2) How do you make instances and classes?\n",
    "\n",
    ":- class can be created by using __init__(constructor) and destroyed by destructor. The instances are nothing but\n",
    "   objects that create within the class, they are called as class instances."
   ]
  },
  {
   "cell_type": "markdown",
   "id": "03dfb4ae",
   "metadata": {},
   "source": [
    "3) Where and how should be class attributes are created?\n",
    "\n",
    ":- class attributes are created after defining class and after applying constructer.\n",
    "    \n",
    "    class person:\n",
    "        def __init__(self,a,b,c)"
   ]
  },
  {
   "cell_type": "markdown",
   "id": "ca46e2e3",
   "metadata": {},
   "source": [
    "4) Where and how are instance attributes created?\n",
    "\n",
    ":- class person:\n",
    "        def __init__(self,a,b,c):\n",
    "            self.a = a\n",
    "            self.b = b\n",
    "            self.c = c\n",
    "        "
   ]
  },
  {
   "cell_type": "markdown",
   "id": "34003d37",
   "metadata": {},
   "source": [
    "5) What does the 'self' in a Python class mean?\n",
    "\n",
    ":- Pointer."
   ]
  },
  {
   "cell_type": "markdown",
   "id": "903d0554",
   "metadata": {},
   "source": [
    "6) How does a Python class handle operator overloading?\n",
    "\n",
    "class test:\n",
    "    def fun(self):\n",
    "        print(\"this is my sample class\")\n",
    "        \n",
    "    def __str__(self):\n",
    "        return str(\"this is function called at the time of object print\")\n",
    "        \n",
    "        \n",
    "t = test()        "
   ]
  },
  {
   "cell_type": "markdown",
   "id": "de93df27",
   "metadata": {},
   "source": [
    "7) When do you consider allowing operator overloading of your classes?\n",
    "\n",
    ":- When we are trying to create same independent function but we trying to give new defination."
   ]
  },
  {
   "cell_type": "markdown",
   "id": "d2d73b00",
   "metadata": {},
   "source": [
    "8) What is the most popular form of operator overhandling?\n",
    "\n",
    ":- Addition(+) operator"
   ]
  },
  {
   "cell_type": "markdown",
   "id": "755af872",
   "metadata": {},
   "source": [
    "9) What are the two most important concepts to grasp in order to comprehend Python OOP code?\n",
    "\n",
    ":- Inheritance & Polymorphism."
   ]
  }
 ],
 "metadata": {
  "kernelspec": {
   "display_name": "Python 3 (ipykernel)",
   "language": "python",
   "name": "python3"
  },
  "language_info": {
   "codemirror_mode": {
    "name": "ipython",
    "version": 3
   },
   "file_extension": ".py",
   "mimetype": "text/x-python",
   "name": "python",
   "nbconvert_exporter": "python",
   "pygments_lexer": "ipython3",
   "version": "3.9.7"
  }
 },
 "nbformat": 4,
 "nbformat_minor": 5
}
